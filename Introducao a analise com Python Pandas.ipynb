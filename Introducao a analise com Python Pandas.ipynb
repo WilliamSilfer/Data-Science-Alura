{
 "cells": [
  {
   "cell_type": "markdown",
   "id": "8e537e6e",
   "metadata": {},
   "source": [
    "# Introdução a Análise de Dados - Python e Pandas"
   ]
  },
  {
   "cell_type": "code",
   "execution_count": 1,
   "id": "dda0fc6e",
   "metadata": {},
   "outputs": [],
   "source": [
    "import pandas as pd\n",
    "import seaborn as sns"
   ]
  },
  {
   "cell_type": "code",
   "execution_count": 2,
   "id": "e58c8420",
   "metadata": {},
   "outputs": [],
   "source": [
    "# Abrindo o arquivo separado por ';'\n",
    "igm = pd.read_csv(\"dados/igm_virgula.csv\", sep = ';')"
   ]
  },
  {
   "cell_type": "markdown",
   "id": "02698d97",
   "metadata": {},
   "source": [
    "### Formas de Visualizar os dados do DataFrame"
   ]
  },
  {
   "cell_type": "code",
   "execution_count": 3,
   "id": "763cbb41",
   "metadata": {},
   "outputs": [
    {
     "data": {
      "text/html": [
       "<div>\n",
       "<style scoped>\n",
       "    .dataframe tbody tr th:only-of-type {\n",
       "        vertical-align: middle;\n",
       "    }\n",
       "\n",
       "    .dataframe tbody tr th {\n",
       "        vertical-align: top;\n",
       "    }\n",
       "\n",
       "    .dataframe thead th {\n",
       "        text-align: right;\n",
       "    }\n",
       "</style>\n",
       "<table border=\"1\" class=\"dataframe\">\n",
       "  <thead>\n",
       "    <tr style=\"text-align: right;\">\n",
       "      <th></th>\n",
       "      <th>regiao</th>\n",
       "      <th>estado</th>\n",
       "      <th>municipio</th>\n",
       "      <th>codigo_mun</th>\n",
       "      <th>capital</th>\n",
       "      <th>porte</th>\n",
       "      <th>populacao</th>\n",
       "      <th>area</th>\n",
       "      <th>densidade_dem</th>\n",
       "      <th>pib</th>\n",
       "      <th>...</th>\n",
       "      <th>gasto_pc_educacao</th>\n",
       "      <th>exp_anos_estudo</th>\n",
       "      <th>nota_ciencias</th>\n",
       "      <th>nota_humanas</th>\n",
       "      <th>nota_linguagem</th>\n",
       "      <th>nota_mat</th>\n",
       "      <th>nota_redacao</th>\n",
       "      <th>idhm</th>\n",
       "      <th>ranking_igm</th>\n",
       "      <th>indice_governanca</th>\n",
       "    </tr>\n",
       "  </thead>\n",
       "  <tbody>\n",
       "    <tr>\n",
       "      <th>0</th>\n",
       "      <td>SUDESTE</td>\n",
       "      <td>SP</td>\n",
       "      <td>ILHABELA</td>\n",
       "      <td>3520400</td>\n",
       "      <td>0</td>\n",
       "      <td>Pequeno porte 2</td>\n",
       "      <td>32782,0</td>\n",
       "      <td>347,52</td>\n",
       "      <td>94,33126151012893</td>\n",
       "      <td>3256711,64</td>\n",
       "      <td>...</td>\n",
       "      <td>1734,52</td>\n",
       "      <td>10,63</td>\n",
       "      <td>482,0543478260869</td>\n",
       "      <td>541,226086956522</td>\n",
       "      <td>530,6511111111108</td>\n",
       "      <td>507,952777777778</td>\n",
       "      <td>499,3611111111112</td>\n",
       "      <td>0,747</td>\n",
       "      <td>1º</td>\n",
       "      <td>0,767</td>\n",
       "    </tr>\n",
       "    <tr>\n",
       "      <th>1</th>\n",
       "      <td>SUDESTE</td>\n",
       "      <td>SP</td>\n",
       "      <td>SANTANA DE PARNAIBA</td>\n",
       "      <td>3547304</td>\n",
       "      <td>0</td>\n",
       "      <td>Grande porte</td>\n",
       "      <td>129261,0</td>\n",
       "      <td>179,95</td>\n",
       "      <td>718,3161989441512</td>\n",
       "      <td>7373602,99</td>\n",
       "      <td>...</td>\n",
       "      <td>1704,93</td>\n",
       "      <td>10,01</td>\n",
       "      <td>483,99762532981583</td>\n",
       "      <td>542,7604221635892</td>\n",
       "      <td>535,7651286601596</td>\n",
       "      <td>499,91109139307923</td>\n",
       "      <td>547,5066548358474</td>\n",
       "      <td>0,885</td>\n",
       "      <td>2º</td>\n",
       "      <td>0,759</td>\n",
       "    </tr>\n",
       "    <tr>\n",
       "      <th>2</th>\n",
       "      <td>SUL</td>\n",
       "      <td>SC</td>\n",
       "      <td>BOMBINHAS</td>\n",
       "      <td>4202453</td>\n",
       "      <td>0</td>\n",
       "      <td>Pequeno porte 1</td>\n",
       "      <td>18052,0</td>\n",
       "      <td>35,92</td>\n",
       "      <td>502,5612472160356</td>\n",
       "      <td>377357,32</td>\n",
       "      <td>...</td>\n",
       "      <td>1370,96</td>\n",
       "      <td>10,44</td>\n",
       "      <td>472,1056074766355</td>\n",
       "      <td>541,9495327102804</td>\n",
       "      <td>523,2519230769232</td>\n",
       "      <td>474,50673076923056</td>\n",
       "      <td>515,0</td>\n",
       "      <td>0,807</td>\n",
       "      <td>3º</td>\n",
       "      <td>0,758</td>\n",
       "    </tr>\n",
       "    <tr>\n",
       "      <th>3</th>\n",
       "      <td>SUDESTE</td>\n",
       "      <td>SP</td>\n",
       "      <td>SAO BERNARDO DO CAMPO</td>\n",
       "      <td>3548708</td>\n",
       "      <td>0</td>\n",
       "      <td>Grande porte</td>\n",
       "      <td>822242,0</td>\n",
       "      <td>409,53</td>\n",
       "      <td>2007,7698825482871</td>\n",
       "      <td>47668531,31</td>\n",
       "      <td>...</td>\n",
       "      <td>770,79</td>\n",
       "      <td>10,22</td>\n",
       "      <td>489,2415144372419</td>\n",
       "      <td>552,6161903358857</td>\n",
       "      <td>546,1737209994044</td>\n",
       "      <td>514,2043575252835</td>\n",
       "      <td>557,6680547293279</td>\n",
       "      <td>0,8640000000000001</td>\n",
       "      <td>4º</td>\n",
       "      <td>0,7559999999999999</td>\n",
       "    </tr>\n",
       "    <tr>\n",
       "      <th>4</th>\n",
       "      <td>CENTRO-OESTE</td>\n",
       "      <td>DF</td>\n",
       "      <td>BRASILIA</td>\n",
       "      <td>5300108</td>\n",
       "      <td>1</td>\n",
       "      <td>Grande porte</td>\n",
       "      <td>2977216,0</td>\n",
       "      <td>5780,0</td>\n",
       "      <td>515,0892733564013</td>\n",
       "      <td>175362791,42</td>\n",
       "      <td>...</td>\n",
       "      <td>2077,49</td>\n",
       "      <td>9,87</td>\n",
       "      <td>493,51475767340736</td>\n",
       "      <td>551,9824984539249</td>\n",
       "      <td>538,3666117554056</td>\n",
       "      <td>509,20600619399215</td>\n",
       "      <td>567,991532683184</td>\n",
       "      <td>0,909</td>\n",
       "      <td>5º</td>\n",
       "      <td>0,736</td>\n",
       "    </tr>\n",
       "  </tbody>\n",
       "</table>\n",
       "<p>5 rows × 32 columns</p>\n",
       "</div>"
      ],
      "text/plain": [
       "         regiao estado              municipio  codigo_mun  capital  \\\n",
       "0       SUDESTE     SP               ILHABELA     3520400        0   \n",
       "1       SUDESTE     SP    SANTANA DE PARNAIBA     3547304        0   \n",
       "2           SUL     SC              BOMBINHAS     4202453        0   \n",
       "3       SUDESTE     SP  SAO BERNARDO DO CAMPO     3548708        0   \n",
       "4  CENTRO-OESTE     DF               BRASILIA     5300108        1   \n",
       "\n",
       "             porte  populacao    area       densidade_dem           pib  ...  \\\n",
       "0  Pequeno porte 2    32782,0  347,52   94,33126151012893    3256711,64  ...   \n",
       "1     Grande porte   129261,0  179,95   718,3161989441512    7373602,99  ...   \n",
       "2  Pequeno porte 1    18052,0   35,92   502,5612472160356     377357,32  ...   \n",
       "3     Grande porte   822242,0  409,53  2007,7698825482871   47668531,31  ...   \n",
       "4     Grande porte  2977216,0  5780,0   515,0892733564013  175362791,42  ...   \n",
       "\n",
       "  gasto_pc_educacao exp_anos_estudo       nota_ciencias       nota_humanas  \\\n",
       "0           1734,52           10,63   482,0543478260869   541,226086956522   \n",
       "1           1704,93           10,01  483,99762532981583  542,7604221635892   \n",
       "2           1370,96           10,44   472,1056074766355  541,9495327102804   \n",
       "3            770,79           10,22   489,2415144372419  552,6161903358857   \n",
       "4           2077,49            9,87  493,51475767340736  551,9824984539249   \n",
       "\n",
       "      nota_linguagem            nota_mat       nota_redacao  \\\n",
       "0  530,6511111111108    507,952777777778  499,3611111111112   \n",
       "1  535,7651286601596  499,91109139307923  547,5066548358474   \n",
       "2  523,2519230769232  474,50673076923056              515,0   \n",
       "3  546,1737209994044   514,2043575252835  557,6680547293279   \n",
       "4  538,3666117554056  509,20600619399215   567,991532683184   \n",
       "\n",
       "                 idhm ranking_igm   indice_governanca  \n",
       "0               0,747          1º               0,767  \n",
       "1               0,885          2º               0,759  \n",
       "2               0,807          3º               0,758  \n",
       "3  0,8640000000000001          4º  0,7559999999999999  \n",
       "4               0,909          5º               0,736  \n",
       "\n",
       "[5 rows x 32 columns]"
      ]
     },
     "execution_count": 3,
     "metadata": {},
     "output_type": "execute_result"
    }
   ],
   "source": [
    "# Uma rápida visualização no topo do DataFrame\n",
    "igm.head()"
   ]
  },
  {
   "cell_type": "code",
   "execution_count": 4,
   "id": "32adcf4b",
   "metadata": {},
   "outputs": [
    {
     "data": {
      "text/html": [
       "<div>\n",
       "<style scoped>\n",
       "    .dataframe tbody tr th:only-of-type {\n",
       "        vertical-align: middle;\n",
       "    }\n",
       "\n",
       "    .dataframe tbody tr th {\n",
       "        vertical-align: top;\n",
       "    }\n",
       "\n",
       "    .dataframe thead th {\n",
       "        text-align: right;\n",
       "    }\n",
       "</style>\n",
       "<table border=\"1\" class=\"dataframe\">\n",
       "  <thead>\n",
       "    <tr style=\"text-align: right;\">\n",
       "      <th></th>\n",
       "      <th>regiao</th>\n",
       "      <th>estado</th>\n",
       "      <th>municipio</th>\n",
       "      <th>codigo_mun</th>\n",
       "      <th>capital</th>\n",
       "      <th>porte</th>\n",
       "      <th>populacao</th>\n",
       "      <th>area</th>\n",
       "      <th>densidade_dem</th>\n",
       "      <th>pib</th>\n",
       "      <th>...</th>\n",
       "      <th>gasto_pc_educacao</th>\n",
       "      <th>exp_anos_estudo</th>\n",
       "      <th>nota_ciencias</th>\n",
       "      <th>nota_humanas</th>\n",
       "      <th>nota_linguagem</th>\n",
       "      <th>nota_mat</th>\n",
       "      <th>nota_redacao</th>\n",
       "      <th>idhm</th>\n",
       "      <th>ranking_igm</th>\n",
       "      <th>indice_governanca</th>\n",
       "    </tr>\n",
       "  </thead>\n",
       "  <tbody>\n",
       "    <tr>\n",
       "      <th>5565</th>\n",
       "      <td>NORTE</td>\n",
       "      <td>TO</td>\n",
       "      <td>RIO DOS BOIS</td>\n",
       "      <td>1718709</td>\n",
       "      <td>0</td>\n",
       "      <td>Pequeno porte 1</td>\n",
       "      <td>2787,0</td>\n",
       "      <td>845,07</td>\n",
       "      <td>3,2979516489758245</td>\n",
       "      <td>27136,71</td>\n",
       "      <td>...</td>\n",
       "      <td>NaN</td>\n",
       "      <td>9,26</td>\n",
       "      <td>450,6133333333333</td>\n",
       "      <td>457,1</td>\n",
       "      <td>473,1285714285714</td>\n",
       "      <td>458,9214285714286</td>\n",
       "      <td>494,28571428571433</td>\n",
       "      <td>0,413</td>\n",
       "      <td>NaN</td>\n",
       "      <td>NaN</td>\n",
       "    </tr>\n",
       "    <tr>\n",
       "      <th>5566</th>\n",
       "      <td>NORTE</td>\n",
       "      <td>TO</td>\n",
       "      <td>AXIXA DO TOCANTINS</td>\n",
       "      <td>1702901</td>\n",
       "      <td>0</td>\n",
       "      <td>Pequeno porte 1</td>\n",
       "      <td>9741,0</td>\n",
       "      <td>150,21</td>\n",
       "      <td>64,84921110445376</td>\n",
       "      <td>80205,45</td>\n",
       "      <td>...</td>\n",
       "      <td>NaN</td>\n",
       "      <td>10,11</td>\n",
       "      <td>437,36024096385546</td>\n",
       "      <td>470,1879518072288</td>\n",
       "      <td>463,16666666666686</td>\n",
       "      <td>442,0913580246914</td>\n",
       "      <td>444,19753086419746</td>\n",
       "      <td>0,439</td>\n",
       "      <td>NaN</td>\n",
       "      <td>NaN</td>\n",
       "    </tr>\n",
       "    <tr>\n",
       "      <th>5567</th>\n",
       "      <td>NORTE</td>\n",
       "      <td>TO</td>\n",
       "      <td>FILADELFIA</td>\n",
       "      <td>1707702</td>\n",
       "      <td>0</td>\n",
       "      <td>Pequeno porte 1</td>\n",
       "      <td>8871,0</td>\n",
       "      <td>1988,08</td>\n",
       "      <td>4,462094080721098</td>\n",
       "      <td>78500,72</td>\n",
       "      <td>...</td>\n",
       "      <td>NaN</td>\n",
       "      <td>9,38</td>\n",
       "      <td>431,2317073170733</td>\n",
       "      <td>456,0756097560977</td>\n",
       "      <td>453,8902439024391</td>\n",
       "      <td>426,5780487804877</td>\n",
       "      <td>399,02439024390236</td>\n",
       "      <td>0,425</td>\n",
       "      <td>NaN</td>\n",
       "      <td>NaN</td>\n",
       "    </tr>\n",
       "    <tr>\n",
       "      <th>5568</th>\n",
       "      <td>NORTE</td>\n",
       "      <td>TO</td>\n",
       "      <td>PONTE ALTA DO TOCANTINS</td>\n",
       "      <td>1717909</td>\n",
       "      <td>0</td>\n",
       "      <td>Pequeno porte 1</td>\n",
       "      <td>7872,0</td>\n",
       "      <td>6491,13</td>\n",
       "      <td>1,2127318355971919</td>\n",
       "      <td>59147,57</td>\n",
       "      <td>...</td>\n",
       "      <td>NaN</td>\n",
       "      <td>9,07</td>\n",
       "      <td>443,87692307692294</td>\n",
       "      <td>480,91730769230765</td>\n",
       "      <td>465,5384615384616</td>\n",
       "      <td>437,48269230769216</td>\n",
       "      <td>441,15384615384613</td>\n",
       "      <td>0,4320000000000001</td>\n",
       "      <td>NaN</td>\n",
       "      <td>NaN</td>\n",
       "    </tr>\n",
       "    <tr>\n",
       "      <th>5569</th>\n",
       "      <td>NORTE</td>\n",
       "      <td>TO</td>\n",
       "      <td>SILVANOPOLIS</td>\n",
       "      <td>1720655</td>\n",
       "      <td>0</td>\n",
       "      <td>Pequeno porte 1</td>\n",
       "      <td>5372,0</td>\n",
       "      <td>1258,83</td>\n",
       "      <td>4,267454699999206</td>\n",
       "      <td>77734,86</td>\n",
       "      <td>...</td>\n",
       "      <td>NaN</td>\n",
       "      <td>10,36</td>\n",
       "      <td>433,3785714285715</td>\n",
       "      <td>459,1321428571428</td>\n",
       "      <td>469,71428571428567</td>\n",
       "      <td>407,04999999999984</td>\n",
       "      <td>452,8571428571428</td>\n",
       "      <td>NaN</td>\n",
       "      <td>NaN</td>\n",
       "      <td>NaN</td>\n",
       "    </tr>\n",
       "  </tbody>\n",
       "</table>\n",
       "<p>5 rows × 32 columns</p>\n",
       "</div>"
      ],
      "text/plain": [
       "     regiao estado                municipio  codigo_mun  capital  \\\n",
       "5565  NORTE     TO             RIO DOS BOIS     1718709        0   \n",
       "5566  NORTE     TO       AXIXA DO TOCANTINS     1702901        0   \n",
       "5567  NORTE     TO               FILADELFIA     1707702        0   \n",
       "5568  NORTE     TO  PONTE ALTA DO TOCANTINS     1717909        0   \n",
       "5569  NORTE     TO             SILVANOPOLIS     1720655        0   \n",
       "\n",
       "                porte populacao     area       densidade_dem       pib  ...  \\\n",
       "5565  Pequeno porte 1    2787,0   845,07  3,2979516489758245  27136,71  ...   \n",
       "5566  Pequeno porte 1    9741,0   150,21   64,84921110445376  80205,45  ...   \n",
       "5567  Pequeno porte 1    8871,0  1988,08   4,462094080721098  78500,72  ...   \n",
       "5568  Pequeno porte 1    7872,0  6491,13  1,2127318355971919  59147,57  ...   \n",
       "5569  Pequeno porte 1    5372,0  1258,83   4,267454699999206  77734,86  ...   \n",
       "\n",
       "     gasto_pc_educacao exp_anos_estudo       nota_ciencias  \\\n",
       "5565               NaN            9,26   450,6133333333333   \n",
       "5566               NaN           10,11  437,36024096385546   \n",
       "5567               NaN            9,38   431,2317073170733   \n",
       "5568               NaN            9,07  443,87692307692294   \n",
       "5569               NaN           10,36   433,3785714285715   \n",
       "\n",
       "            nota_humanas      nota_linguagem            nota_mat  \\\n",
       "5565               457,1   473,1285714285714   458,9214285714286   \n",
       "5566   470,1879518072288  463,16666666666686   442,0913580246914   \n",
       "5567   456,0756097560977   453,8902439024391   426,5780487804877   \n",
       "5568  480,91730769230765   465,5384615384616  437,48269230769216   \n",
       "5569   459,1321428571428  469,71428571428567  407,04999999999984   \n",
       "\n",
       "            nota_redacao                idhm ranking_igm indice_governanca  \n",
       "5565  494,28571428571433               0,413         NaN               NaN  \n",
       "5566  444,19753086419746               0,439         NaN               NaN  \n",
       "5567  399,02439024390236               0,425         NaN               NaN  \n",
       "5568  441,15384615384613  0,4320000000000001         NaN               NaN  \n",
       "5569   452,8571428571428                 NaN         NaN               NaN  \n",
       "\n",
       "[5 rows x 32 columns]"
      ]
     },
     "execution_count": 4,
     "metadata": {},
     "output_type": "execute_result"
    }
   ],
   "source": [
    "# Uma visualização na \"CALDA\" do DataFrame\n",
    "igm.tail()"
   ]
  },
  {
   "cell_type": "code",
   "execution_count": 5,
   "id": "bf9fc30e",
   "metadata": {},
   "outputs": [
    {
     "data": {
      "text/html": [
       "<div>\n",
       "<style scoped>\n",
       "    .dataframe tbody tr th:only-of-type {\n",
       "        vertical-align: middle;\n",
       "    }\n",
       "\n",
       "    .dataframe tbody tr th {\n",
       "        vertical-align: top;\n",
       "    }\n",
       "\n",
       "    .dataframe thead th {\n",
       "        text-align: right;\n",
       "    }\n",
       "</style>\n",
       "<table border=\"1\" class=\"dataframe\">\n",
       "  <thead>\n",
       "    <tr style=\"text-align: right;\">\n",
       "      <th></th>\n",
       "      <th>regiao</th>\n",
       "      <th>estado</th>\n",
       "      <th>municipio</th>\n",
       "      <th>codigo_mun</th>\n",
       "      <th>capital</th>\n",
       "      <th>porte</th>\n",
       "      <th>populacao</th>\n",
       "      <th>area</th>\n",
       "      <th>densidade_dem</th>\n",
       "      <th>pib</th>\n",
       "      <th>...</th>\n",
       "      <th>gasto_pc_educacao</th>\n",
       "      <th>exp_anos_estudo</th>\n",
       "      <th>nota_ciencias</th>\n",
       "      <th>nota_humanas</th>\n",
       "      <th>nota_linguagem</th>\n",
       "      <th>nota_mat</th>\n",
       "      <th>nota_redacao</th>\n",
       "      <th>idhm</th>\n",
       "      <th>ranking_igm</th>\n",
       "      <th>indice_governanca</th>\n",
       "    </tr>\n",
       "  </thead>\n",
       "  <tbody>\n",
       "    <tr>\n",
       "      <th>5173</th>\n",
       "      <td>NORTE</td>\n",
       "      <td>RR</td>\n",
       "      <td>MUCAJAI</td>\n",
       "      <td>1400308</td>\n",
       "      <td>0</td>\n",
       "      <td>Pequeno porte 1</td>\n",
       "      <td>16618,0</td>\n",
       "      <td>12461,21</td>\n",
       "      <td>1,3335783603678937</td>\n",
       "      <td>212582,89</td>\n",
       "      <td>...</td>\n",
       "      <td>608,88</td>\n",
       "      <td>8,38</td>\n",
       "      <td>441,038</td>\n",
       "      <td>495,0389999999999</td>\n",
       "      <td>475,7636363636364</td>\n",
       "      <td>431,6505050505052</td>\n",
       "      <td>459,3939393939394</td>\n",
       "      <td>NaN</td>\n",
       "      <td>NaN</td>\n",
       "      <td>NaN</td>\n",
       "    </tr>\n",
       "    <tr>\n",
       "      <th>1213</th>\n",
       "      <td>SUDESTE</td>\n",
       "      <td>SP</td>\n",
       "      <td>MERIDIANO</td>\n",
       "      <td>3529609</td>\n",
       "      <td>0</td>\n",
       "      <td>Pequeno porte 1</td>\n",
       "      <td>3902,0</td>\n",
       "      <td>228,2</td>\n",
       "      <td>17,09903593339176</td>\n",
       "      <td>210404,31</td>\n",
       "      <td>...</td>\n",
       "      <td>1137,07</td>\n",
       "      <td>11,48</td>\n",
       "      <td>471,10333333333335</td>\n",
       "      <td>521,3533333333334</td>\n",
       "      <td>498,6862068965516</td>\n",
       "      <td>468,03103448275857</td>\n",
       "      <td>563,4482758620691</td>\n",
       "      <td>0,687</td>\n",
       "      <td>1214º</td>\n",
       "      <td>0,537</td>\n",
       "    </tr>\n",
       "    <tr>\n",
       "      <th>4921</th>\n",
       "      <td>NORDESTE</td>\n",
       "      <td>PB</td>\n",
       "      <td>MONTADAS</td>\n",
       "      <td>2509503</td>\n",
       "      <td>0</td>\n",
       "      <td>Pequeno porte 1</td>\n",
       "      <td>5611,0</td>\n",
       "      <td>31,69</td>\n",
       "      <td>177,05900915115177</td>\n",
       "      <td>30578,36</td>\n",
       "      <td>...</td>\n",
       "      <td>901,17</td>\n",
       "      <td>9,04</td>\n",
       "      <td>464,24047619047616</td>\n",
       "      <td>497,9119047619049</td>\n",
       "      <td>500,4833333333333</td>\n",
       "      <td>444,56428571428575</td>\n",
       "      <td>520,952380952381</td>\n",
       "      <td>0,35100000000000003</td>\n",
       "      <td>NaN</td>\n",
       "      <td>NaN</td>\n",
       "    </tr>\n",
       "    <tr>\n",
       "      <th>2702</th>\n",
       "      <td>NORDESTE</td>\n",
       "      <td>AL</td>\n",
       "      <td>PILAR</td>\n",
       "      <td>2706901</td>\n",
       "      <td>0</td>\n",
       "      <td>Pequeno porte 2</td>\n",
       "      <td>35428,0</td>\n",
       "      <td>251,07</td>\n",
       "      <td>141,10805751384078</td>\n",
       "      <td>640294,18</td>\n",
       "      <td>...</td>\n",
       "      <td>770,28</td>\n",
       "      <td>8,3</td>\n",
       "      <td>441,7466666666666</td>\n",
       "      <td>493,32611111111083</td>\n",
       "      <td>480,30169491525385</td>\n",
       "      <td>428,636723163842</td>\n",
       "      <td>470,96610169491515</td>\n",
       "      <td>0,39899999999999997</td>\n",
       "      <td>2703º</td>\n",
       "      <td>0,416</td>\n",
       "    </tr>\n",
       "    <tr>\n",
       "      <th>2058</th>\n",
       "      <td>CENTRO-OESTE</td>\n",
       "      <td>GO</td>\n",
       "      <td>LUZIANIA</td>\n",
       "      <td>5212501</td>\n",
       "      <td>0</td>\n",
       "      <td>Grande porte</td>\n",
       "      <td>196864,0</td>\n",
       "      <td>3961,1</td>\n",
       "      <td>49,69932594481331</td>\n",
       "      <td>3138351,52</td>\n",
       "      <td>...</td>\n",
       "      <td>522,97</td>\n",
       "      <td>9,02</td>\n",
       "      <td>461,3763052208834</td>\n",
       "      <td>520,4455153949119</td>\n",
       "      <td>511,4632971506101</td>\n",
       "      <td>470,7165535956582</td>\n",
       "      <td>495,75305291723197</td>\n",
       "      <td>0,616</td>\n",
       "      <td>2059º</td>\n",
       "      <td>0,472</td>\n",
       "    </tr>\n",
       "  </tbody>\n",
       "</table>\n",
       "<p>5 rows × 32 columns</p>\n",
       "</div>"
      ],
      "text/plain": [
       "            regiao estado  municipio  codigo_mun  capital            porte  \\\n",
       "5173         NORTE     RR    MUCAJAI     1400308        0  Pequeno porte 1   \n",
       "1213       SUDESTE     SP  MERIDIANO     3529609        0  Pequeno porte 1   \n",
       "4921      NORDESTE     PB   MONTADAS     2509503        0  Pequeno porte 1   \n",
       "2702      NORDESTE     AL      PILAR     2706901        0  Pequeno porte 2   \n",
       "2058  CENTRO-OESTE     GO   LUZIANIA     5212501        0     Grande porte   \n",
       "\n",
       "     populacao      area       densidade_dem         pib  ...  \\\n",
       "5173   16618,0  12461,21  1,3335783603678937   212582,89  ...   \n",
       "1213    3902,0     228,2   17,09903593339176   210404,31  ...   \n",
       "4921    5611,0     31,69  177,05900915115177    30578,36  ...   \n",
       "2702   35428,0    251,07  141,10805751384078   640294,18  ...   \n",
       "2058  196864,0    3961,1   49,69932594481331  3138351,52  ...   \n",
       "\n",
       "     gasto_pc_educacao exp_anos_estudo       nota_ciencias  \\\n",
       "5173            608,88            8,38             441,038   \n",
       "1213           1137,07           11,48  471,10333333333335   \n",
       "4921            901,17            9,04  464,24047619047616   \n",
       "2702            770,28             8,3   441,7466666666666   \n",
       "2058            522,97            9,02   461,3763052208834   \n",
       "\n",
       "            nota_humanas      nota_linguagem            nota_mat  \\\n",
       "5173   495,0389999999999   475,7636363636364   431,6505050505052   \n",
       "1213   521,3533333333334   498,6862068965516  468,03103448275857   \n",
       "4921   497,9119047619049   500,4833333333333  444,56428571428575   \n",
       "2702  493,32611111111083  480,30169491525385    428,636723163842   \n",
       "2058   520,4455153949119   511,4632971506101   470,7165535956582   \n",
       "\n",
       "            nota_redacao                 idhm ranking_igm indice_governanca  \n",
       "5173   459,3939393939394                  NaN         NaN               NaN  \n",
       "1213   563,4482758620691                0,687       1214º             0,537  \n",
       "4921    520,952380952381  0,35100000000000003         NaN               NaN  \n",
       "2702  470,96610169491515  0,39899999999999997       2703º             0,416  \n",
       "2058  495,75305291723197                0,616       2059º             0,472  \n",
       "\n",
       "[5 rows x 32 columns]"
      ]
     },
     "execution_count": 5,
     "metadata": {},
     "output_type": "execute_result"
    }
   ],
   "source": [
    "# A função nos retorna linhas aleatórias\n",
    "igm.sample(5)"
   ]
  },
  {
   "cell_type": "code",
   "execution_count": 6,
   "id": "29ea11ab",
   "metadata": {},
   "outputs": [
    {
     "data": {
      "text/html": [
       "<div>\n",
       "<style scoped>\n",
       "    .dataframe tbody tr th:only-of-type {\n",
       "        vertical-align: middle;\n",
       "    }\n",
       "\n",
       "    .dataframe tbody tr th {\n",
       "        vertical-align: top;\n",
       "    }\n",
       "\n",
       "    .dataframe thead th {\n",
       "        text-align: right;\n",
       "    }\n",
       "</style>\n",
       "<table border=\"1\" class=\"dataframe\">\n",
       "  <thead>\n",
       "    <tr style=\"text-align: right;\">\n",
       "      <th></th>\n",
       "      <th>3157</th>\n",
       "      <th>2764</th>\n",
       "      <th>3861</th>\n",
       "      <th>4794</th>\n",
       "      <th>1433</th>\n",
       "    </tr>\n",
       "  </thead>\n",
       "  <tbody>\n",
       "    <tr>\n",
       "      <th>regiao</th>\n",
       "      <td>NORDESTE</td>\n",
       "      <td>SUDESTE</td>\n",
       "      <td>NORDESTE</td>\n",
       "      <td>CENTRO-OESTE</td>\n",
       "      <td>SUL</td>\n",
       "    </tr>\n",
       "    <tr>\n",
       "      <th>estado</th>\n",
       "      <td>PI</td>\n",
       "      <td>MG</td>\n",
       "      <td>AL</td>\n",
       "      <td>MT</td>\n",
       "      <td>RS</td>\n",
       "    </tr>\n",
       "    <tr>\n",
       "      <th>municipio</th>\n",
       "      <td>BETANIA DO PIAUI</td>\n",
       "      <td>FREI INOCENCIO</td>\n",
       "      <td>GIRAU DO PONCIANO</td>\n",
       "      <td>PLANALTO DA SERRA</td>\n",
       "      <td>CRISTAL</td>\n",
       "    </tr>\n",
       "    <tr>\n",
       "      <th>codigo_mun</th>\n",
       "      <td>2201739</td>\n",
       "      <td>3126901</td>\n",
       "      <td>2702900</td>\n",
       "      <td>5106455</td>\n",
       "      <td>4306056</td>\n",
       "    </tr>\n",
       "    <tr>\n",
       "      <th>capital</th>\n",
       "      <td>0</td>\n",
       "      <td>0</td>\n",
       "      <td>0</td>\n",
       "      <td>0</td>\n",
       "      <td>0</td>\n",
       "    </tr>\n",
       "    <tr>\n",
       "      <th>porte</th>\n",
       "      <td>Pequeno porte 1</td>\n",
       "      <td>Pequeno porte 1</td>\n",
       "      <td>Pequeno porte 2</td>\n",
       "      <td>Pequeno porte 1</td>\n",
       "      <td>Pequeno porte 1</td>\n",
       "    </tr>\n",
       "    <tr>\n",
       "      <th>populacao</th>\n",
       "      <td>6102,0</td>\n",
       "      <td>9543,0</td>\n",
       "      <td>40912,0</td>\n",
       "      <td>2620,0</td>\n",
       "      <td>7792,0</td>\n",
       "    </tr>\n",
       "    <tr>\n",
       "      <th>area</th>\n",
       "      <td>580,91</td>\n",
       "      <td>469,56</td>\n",
       "      <td>514,35</td>\n",
       "      <td>2455,43</td>\n",
       "      <td>681,63</td>\n",
       "    </tr>\n",
       "    <tr>\n",
       "      <th>densidade_dem</th>\n",
       "      <td>10,504208913601074</td>\n",
       "      <td>20,323281369792998</td>\n",
       "      <td>79,54116846505298</td>\n",
       "      <td>1,0670228839755156</td>\n",
       "      <td>11,43142173906665</td>\n",
       "    </tr>\n",
       "    <tr>\n",
       "      <th>pib</th>\n",
       "      <td>28782,27</td>\n",
       "      <td>83393,48</td>\n",
       "      <td>219228,35</td>\n",
       "      <td>50114,13</td>\n",
       "      <td>137466,26</td>\n",
       "    </tr>\n",
       "    <tr>\n",
       "      <th>pib_pc</th>\n",
       "      <td>4729,26</td>\n",
       "      <td>8903,85</td>\n",
       "      <td>5528,11</td>\n",
       "      <td>18678,4</td>\n",
       "      <td>17948,33</td>\n",
       "    </tr>\n",
       "    <tr>\n",
       "      <th>participacao_transf_receita</th>\n",
       "      <td>92,0</td>\n",
       "      <td>94,0</td>\n",
       "      <td>NaN</td>\n",
       "      <td>92,0</td>\n",
       "      <td>66,0</td>\n",
       "    </tr>\n",
       "    <tr>\n",
       "      <th>servidores</th>\n",
       "      <td>253,0</td>\n",
       "      <td>102,0</td>\n",
       "      <td>1016,0</td>\n",
       "      <td>150,0</td>\n",
       "      <td>212,0</td>\n",
       "    </tr>\n",
       "    <tr>\n",
       "      <th>comissionados</th>\n",
       "      <td>17,0</td>\n",
       "      <td>5,0</td>\n",
       "      <td>140,0</td>\n",
       "      <td>17,0</td>\n",
       "      <td>33,0</td>\n",
       "    </tr>\n",
       "    <tr>\n",
       "      <th>comissionados_por_servidor</th>\n",
       "      <td>0,06719367588932806</td>\n",
       "      <td>0,049019607843137254</td>\n",
       "      <td>0,1377952755905512</td>\n",
       "      <td>0,11333333333333333</td>\n",
       "      <td>0,15566037735849056</td>\n",
       "    </tr>\n",
       "    <tr>\n",
       "      <th>perc_pop_econ_ativa</th>\n",
       "      <td>0,98</td>\n",
       "      <td>0,86</td>\n",
       "      <td>0,85</td>\n",
       "      <td>0,8</td>\n",
       "      <td>1,01</td>\n",
       "    </tr>\n",
       "    <tr>\n",
       "      <th>taxa_empreendedorismo</th>\n",
       "      <td>0,17</td>\n",
       "      <td>0,18</td>\n",
       "      <td>0,21</td>\n",
       "      <td>0,17</td>\n",
       "      <td>0,41</td>\n",
       "    </tr>\n",
       "    <tr>\n",
       "      <th>anos_estudo_empreendedor</th>\n",
       "      <td>4,07947758180846</td>\n",
       "      <td>6,68883979166929</td>\n",
       "      <td>4,27240597452915</td>\n",
       "      <td>5,202694803987519</td>\n",
       "      <td>5,367064529040491</td>\n",
       "    </tr>\n",
       "    <tr>\n",
       "      <th>jornada_trabalho</th>\n",
       "      <td>36,1795118512249</td>\n",
       "      <td>41,3305581315944</td>\n",
       "      <td>37,4099757572843</td>\n",
       "      <td>44,623881045284904</td>\n",
       "      <td>52,9866078562305</td>\n",
       "    </tr>\n",
       "    <tr>\n",
       "      <th>gasto_pc_saude</th>\n",
       "      <td>444,9</td>\n",
       "      <td>337,15</td>\n",
       "      <td>NaN</td>\n",
       "      <td>858,17</td>\n",
       "      <td>662,7</td>\n",
       "    </tr>\n",
       "    <tr>\n",
       "      <th>hab_p_medico</th>\n",
       "      <td>2030,66666666667</td>\n",
       "      <td>1885,6</td>\n",
       "      <td>NaN</td>\n",
       "      <td>NaN</td>\n",
       "      <td>405,57894736842104</td>\n",
       "    </tr>\n",
       "    <tr>\n",
       "      <th>exp_vida</th>\n",
       "      <td>67,1</td>\n",
       "      <td>71,72</td>\n",
       "      <td>70,72</td>\n",
       "      <td>73,8</td>\n",
       "      <td>74,57</td>\n",
       "    </tr>\n",
       "    <tr>\n",
       "      <th>gasto_pc_educacao</th>\n",
       "      <td>1061,37</td>\n",
       "      <td>300,66</td>\n",
       "      <td>NaN</td>\n",
       "      <td>997,76</td>\n",
       "      <td>584,23</td>\n",
       "    </tr>\n",
       "    <tr>\n",
       "      <th>exp_anos_estudo</th>\n",
       "      <td>9,15</td>\n",
       "      <td>10,16</td>\n",
       "      <td>9,09</td>\n",
       "      <td>10,03</td>\n",
       "      <td>9,33</td>\n",
       "    </tr>\n",
       "    <tr>\n",
       "      <th>nota_ciencias</th>\n",
       "      <td>462,6071428571428</td>\n",
       "      <td>448,4243243243245</td>\n",
       "      <td>438,8399999999997</td>\n",
       "      <td>485,39230769230767</td>\n",
       "      <td>464,9396551724138</td>\n",
       "    </tr>\n",
       "    <tr>\n",
       "      <th>nota_humanas</th>\n",
       "      <td>493,93214285714276</td>\n",
       "      <td>512,6324324324324</td>\n",
       "      <td>496,1274074074073</td>\n",
       "      <td>546,6846153846153</td>\n",
       "      <td>508,7137931034483</td>\n",
       "    </tr>\n",
       "    <tr>\n",
       "      <th>nota_linguagem</th>\n",
       "      <td>494,1185185185185</td>\n",
       "      <td>499,77567567567564</td>\n",
       "      <td>470,85037313432815</td>\n",
       "      <td>506,6923076923077</td>\n",
       "      <td>502,9245614035089</td>\n",
       "    </tr>\n",
       "    <tr>\n",
       "      <th>nota_mat</th>\n",
       "      <td>460,5481481481482</td>\n",
       "      <td>492,8864864864866</td>\n",
       "      <td>430,71567164179095</td>\n",
       "      <td>493,0153846153847</td>\n",
       "      <td>465,4719298245614</td>\n",
       "    </tr>\n",
       "    <tr>\n",
       "      <th>nota_redacao</th>\n",
       "      <td>541,4814814814815</td>\n",
       "      <td>501,6216216216216</td>\n",
       "      <td>514,8507462686567</td>\n",
       "      <td>566,1538461538463</td>\n",
       "      <td>515,0877192982456</td>\n",
       "    </tr>\n",
       "    <tr>\n",
       "      <th>idhm</th>\n",
       "      <td>0,11</td>\n",
       "      <td>0,489</td>\n",
       "      <td>0,222</td>\n",
       "      <td>0,508</td>\n",
       "      <td>0,48</td>\n",
       "    </tr>\n",
       "    <tr>\n",
       "      <th>ranking_igm</th>\n",
       "      <td>3158º</td>\n",
       "      <td>2765º</td>\n",
       "      <td>NaN</td>\n",
       "      <td>NaN</td>\n",
       "      <td>1434º</td>\n",
       "    </tr>\n",
       "    <tr>\n",
       "      <th>indice_governanca</th>\n",
       "      <td>0,364</td>\n",
       "      <td>0,41</td>\n",
       "      <td>NaN</td>\n",
       "      <td>NaN</td>\n",
       "      <td>0,52</td>\n",
       "    </tr>\n",
       "  </tbody>\n",
       "</table>\n",
       "</div>"
      ],
      "text/plain": [
       "                                            3157                  2764  \\\n",
       "regiao                                  NORDESTE               SUDESTE   \n",
       "estado                                        PI                    MG   \n",
       "municipio                       BETANIA DO PIAUI        FREI INOCENCIO   \n",
       "codigo_mun                               2201739               3126901   \n",
       "capital                                        0                     0   \n",
       "porte                            Pequeno porte 1       Pequeno porte 1   \n",
       "populacao                                 6102,0                9543,0   \n",
       "area                                      580,91                469,56   \n",
       "densidade_dem                 10,504208913601074    20,323281369792998   \n",
       "pib                                     28782,27              83393,48   \n",
       "pib_pc                                   4729,26               8903,85   \n",
       "participacao_transf_receita                 92,0                  94,0   \n",
       "servidores                                 253,0                 102,0   \n",
       "comissionados                               17,0                   5,0   \n",
       "comissionados_por_servidor   0,06719367588932806  0,049019607843137254   \n",
       "perc_pop_econ_ativa                         0,98                  0,86   \n",
       "taxa_empreendedorismo                       0,17                  0,18   \n",
       "anos_estudo_empreendedor        4,07947758180846      6,68883979166929   \n",
       "jornada_trabalho                36,1795118512249      41,3305581315944   \n",
       "gasto_pc_saude                             444,9                337,15   \n",
       "hab_p_medico                    2030,66666666667                1885,6   \n",
       "exp_vida                                    67,1                 71,72   \n",
       "gasto_pc_educacao                        1061,37                300,66   \n",
       "exp_anos_estudo                             9,15                 10,16   \n",
       "nota_ciencias                  462,6071428571428     448,4243243243245   \n",
       "nota_humanas                  493,93214285714276     512,6324324324324   \n",
       "nota_linguagem                 494,1185185185185    499,77567567567564   \n",
       "nota_mat                       460,5481481481482     492,8864864864866   \n",
       "nota_redacao                   541,4814814814815     501,6216216216216   \n",
       "idhm                                        0,11                 0,489   \n",
       "ranking_igm                                3158º                 2765º   \n",
       "indice_governanca                          0,364                  0,41   \n",
       "\n",
       "                                           3861                 4794  \\\n",
       "regiao                                 NORDESTE         CENTRO-OESTE   \n",
       "estado                                       AL                   MT   \n",
       "municipio                     GIRAU DO PONCIANO    PLANALTO DA SERRA   \n",
       "codigo_mun                              2702900              5106455   \n",
       "capital                                       0                    0   \n",
       "porte                           Pequeno porte 2      Pequeno porte 1   \n",
       "populacao                               40912,0               2620,0   \n",
       "area                                     514,35              2455,43   \n",
       "densidade_dem                 79,54116846505298   1,0670228839755156   \n",
       "pib                                   219228,35             50114,13   \n",
       "pib_pc                                  5528,11              18678,4   \n",
       "participacao_transf_receita                 NaN                 92,0   \n",
       "servidores                               1016,0                150,0   \n",
       "comissionados                             140,0                 17,0   \n",
       "comissionados_por_servidor   0,1377952755905512  0,11333333333333333   \n",
       "perc_pop_econ_ativa                        0,85                  0,8   \n",
       "taxa_empreendedorismo                      0,21                 0,17   \n",
       "anos_estudo_empreendedor       4,27240597452915    5,202694803987519   \n",
       "jornada_trabalho               37,4099757572843   44,623881045284904   \n",
       "gasto_pc_saude                              NaN               858,17   \n",
       "hab_p_medico                                NaN                  NaN   \n",
       "exp_vida                                  70,72                 73,8   \n",
       "gasto_pc_educacao                           NaN               997,76   \n",
       "exp_anos_estudo                            9,09                10,03   \n",
       "nota_ciencias                 438,8399999999997   485,39230769230767   \n",
       "nota_humanas                  496,1274074074073    546,6846153846153   \n",
       "nota_linguagem               470,85037313432815    506,6923076923077   \n",
       "nota_mat                     430,71567164179095    493,0153846153847   \n",
       "nota_redacao                  514,8507462686567    566,1538461538463   \n",
       "idhm                                      0,222                0,508   \n",
       "ranking_igm                                 NaN                  NaN   \n",
       "indice_governanca                           NaN                  NaN   \n",
       "\n",
       "                                            1433  \n",
       "regiao                                       SUL  \n",
       "estado                                        RS  \n",
       "municipio                                CRISTAL  \n",
       "codigo_mun                               4306056  \n",
       "capital                                        0  \n",
       "porte                            Pequeno porte 1  \n",
       "populacao                                 7792,0  \n",
       "area                                      681,63  \n",
       "densidade_dem                  11,43142173906665  \n",
       "pib                                    137466,26  \n",
       "pib_pc                                  17948,33  \n",
       "participacao_transf_receita                 66,0  \n",
       "servidores                                 212,0  \n",
       "comissionados                               33,0  \n",
       "comissionados_por_servidor   0,15566037735849056  \n",
       "perc_pop_econ_ativa                         1,01  \n",
       "taxa_empreendedorismo                       0,41  \n",
       "anos_estudo_empreendedor       5,367064529040491  \n",
       "jornada_trabalho                52,9866078562305  \n",
       "gasto_pc_saude                             662,7  \n",
       "hab_p_medico                  405,57894736842104  \n",
       "exp_vida                                   74,57  \n",
       "gasto_pc_educacao                         584,23  \n",
       "exp_anos_estudo                             9,33  \n",
       "nota_ciencias                  464,9396551724138  \n",
       "nota_humanas                   508,7137931034483  \n",
       "nota_linguagem                 502,9245614035089  \n",
       "nota_mat                       465,4719298245614  \n",
       "nota_redacao                   515,0877192982456  \n",
       "idhm                                        0,48  \n",
       "ranking_igm                                1434º  \n",
       "indice_governanca                           0,52  "
      ]
     },
     "execution_count": 6,
     "metadata": {},
     "output_type": "execute_result"
    }
   ],
   "source": [
    "# Exemplo de outra função .T, ele inverte linhas com colunas\n",
    "igm.sample(5).T"
   ]
  },
  {
   "cell_type": "markdown",
   "id": "e4dfafba",
   "metadata": {},
   "source": [
    "## Tipos de Dados"
   ]
  },
  {
   "cell_type": "code",
   "execution_count": 7,
   "id": "89619d92",
   "metadata": {},
   "outputs": [
    {
     "data": {
      "text/plain": [
       "0       Pequeno porte 2\n",
       "1          Grande porte\n",
       "2       Pequeno porte 1\n",
       "3          Grande porte\n",
       "4          Grande porte\n",
       "             ...       \n",
       "5565    Pequeno porte 1\n",
       "5566    Pequeno porte 1\n",
       "5567    Pequeno porte 1\n",
       "5568    Pequeno porte 1\n",
       "5569    Pequeno porte 1\n",
       "Name: porte, Length: 5570, dtype: object"
      ]
     },
     "execution_count": 7,
     "metadata": {},
     "output_type": "execute_result"
    }
   ],
   "source": [
    "# Visualizando uma coluna\n",
    "igm['porte']"
   ]
  },
  {
   "cell_type": "code",
   "execution_count": 8,
   "id": "48412b6e",
   "metadata": {},
   "outputs": [
    {
     "data": {
      "text/plain": [
       "Pequeno porte 1    3810\n",
       "Pequeno porte 2    1101\n",
       "Médio porte         350\n",
       "Grande porte        309\n",
       "Name: porte, dtype: int64"
      ]
     },
     "execution_count": 8,
     "metadata": {},
     "output_type": "execute_result"
    }
   ],
   "source": [
    "#Agrupando os tipos de dados\n",
    "igm['porte'].value_counts()"
   ]
  },
  {
   "cell_type": "code",
   "execution_count": 9,
   "id": "329e2c5e",
   "metadata": {},
   "outputs": [],
   "source": [
    "%matplotlib inline"
   ]
  },
  {
   "cell_type": "code",
   "execution_count": 10,
   "id": "e4de2871",
   "metadata": {},
   "outputs": [
    {
     "data": {
      "text/plain": [
       "<AxesSubplot:>"
      ]
     },
     "execution_count": 10,
     "metadata": {},
     "output_type": "execute_result"
    },
    {
     "data": {
      "image/png": "[encoded data removed]",
      "text/plain": [
       "<Figure size 432x288 with 1 Axes>"
      ]
     },
     "metadata": {
      "needs_background": "light"
     },
     "output_type": "display_data"
    }
   ],
   "source": [
    "igm['porte'].value_counts().plot.bar()"
   ]
  },
  {
   "cell_type": "code",
   "execution_count": 11,
   "id": "2de88fa4",
   "metadata": {},
   "outputs": [],
   "source": [
    "# Exercícios: Series\n",
    "# Contar o número de munícipios por estado\n",
    "# Plotar gráfico de número de munícipios por estado"
   ]
  },
  {
   "cell_type": "code",
   "execution_count": 12,
   "id": "fc6abeee",
   "metadata": {},
   "outputs": [
    {
     "data": {
      "text/plain": [
       "MG    853\n",
       "SP    645\n",
       "RS    497\n",
       "BA    417\n",
       "PR    399\n",
       "SC    295\n",
       "GO    246\n",
       "PI    224\n",
       "PB    223\n",
       "MA    217\n",
       "PE    185\n",
       "CE    184\n",
       "RN    167\n",
       "PA    144\n",
       "MT    141\n",
       "TO    139\n",
       "AL    102\n",
       "RJ     92\n",
       "MS     79\n",
       "ES     78\n",
       "SE     75\n",
       "AM     62\n",
       "RO     52\n",
       "AC     22\n",
       "AP     16\n",
       "RR     15\n",
       "DF      1\n",
       "Name: estado, dtype: int64"
      ]
     },
     "execution_count": 12,
     "metadata": {},
     "output_type": "execute_result"
    }
   ],
   "source": [
    "igm['estado'].value_counts()"
   ]
  },
  {
   "cell_type": "code",
   "execution_count": 13,
   "id": "20f3d4f9",
   "metadata": {},
   "outputs": [
    {
     "data": {
      "text/plain": [
       "<AxesSubplot:>"
      ]
     },
     "execution_count": 13,
     "metadata": {},
     "output_type": "execute_result"
    },
    {
     "data": {
      "image/png": "[encoded data removed]",
      "text/plain": [
       "<Figure size 432x288 with 1 Axes>"
      ]
     },
     "metadata": {
      "needs_background": "light"
     },
     "output_type": "display_data"
    }
   ],
   "source": [
    "igm['estado'].value_counts().plot.bar()"
   ]
  },
  {
   "cell_type": "markdown",
   "id": "4f452966",
   "metadata": {},
   "source": [
    "### Operações de Agregamento Numéricas"
   ]
  },
  {
   "cell_type": "code",
   "execution_count": 81,
   "id": "6e5b29d4",
   "metadata": {},
   "outputs": [],
   "source": [
    "# Criando uma variavel para armazenar a coluna indice_governanca \n",
    "ind_des = igm['indice_governanca']"
   ]
  },
  {
   "cell_type": "markdown",
   "id": "7f90625b",
   "metadata": {},
   "source": [
    "Vamos utilizar o isnull jaja para verificar os valores NaN. Agora vamoss utilziar o count para nos mostrar quantos registros há,\n",
    "note que o count não contabiliza valores em brancos, para isto vamos utilizar o size para retornar o total"
   ]
  },
  {
   "cell_type": "code",
   "execution_count": 15,
   "id": "da94a1ec",
   "metadata": {},
   "outputs": [
    {
     "data": {
      "text/plain": [
       "3303"
      ]
     },
     "execution_count": 15,
     "metadata": {},
     "output_type": "execute_result"
    }
   ],
   "source": [
    "ind_des.count()"
   ]
  },
  {
   "cell_type": "code",
   "execution_count": 16,
   "id": "46c13f11",
   "metadata": {},
   "outputs": [
    {
     "data": {
      "text/plain": [
       "5570"
      ]
     },
     "execution_count": 16,
     "metadata": {},
     "output_type": "execute_result"
    }
   ],
   "source": [
    "ind_des.size"
   ]
  },
  {
   "cell_type": "code",
   "execution_count": 17,
   "id": "0521d17e",
   "metadata": {},
   "outputs": [
    {
     "data": {
      "text/plain": [
       "0       False\n",
       "1       False\n",
       "2       False\n",
       "3       False\n",
       "4       False\n",
       "        ...  \n",
       "5565     True\n",
       "5566     True\n",
       "5567     True\n",
       "5568     True\n",
       "5569     True\n",
       "Name: indice_governanca, Length: 5570, dtype: bool"
      ]
     },
     "execution_count": 17,
     "metadata": {},
     "output_type": "execute_result"
    }
   ],
   "source": [
    "ind_des.isnull() # retorna como True os valores nulos"
   ]
  },
  {
   "cell_type": "code",
   "execution_count": 18,
   "id": "c7cce55b",
   "metadata": {},
   "outputs": [
    {
     "data": {
      "text/plain": [
       "2267"
      ]
     },
     "execution_count": 18,
     "metadata": {},
     "output_type": "execute_result"
    }
   ],
   "source": [
    "ind_des.isnull().sum() # contabilizar todos valores em brancos"
   ]
  },
  {
   "cell_type": "code",
   "execution_count": 19,
   "id": "6086621e",
   "metadata": {},
   "outputs": [
    {
     "data": {
      "text/plain": [
       "False    3303\n",
       "True     2267\n",
       "Name: indice_governanca, dtype: int64"
      ]
     },
     "execution_count": 19,
     "metadata": {},
     "output_type": "execute_result"
    }
   ],
   "source": [
    "ind_des.isnull().value_counts() # Outra forma de visualizar os valores em brancos"
   ]
  },
  {
   "cell_type": "code",
   "execution_count": 20,
   "id": "a38247ff",
   "metadata": {},
   "outputs": [],
   "source": [
    "ind_des.dropna(inplace = True)"
   ]
  },
  {
   "cell_type": "code",
   "execution_count": 21,
   "id": "a54cef57",
   "metadata": {},
   "outputs": [
    {
     "data": {
      "text/plain": [
       "False    3303\n",
       "Name: indice_governanca, dtype: int64"
      ]
     },
     "execution_count": 21,
     "metadata": {},
     "output_type": "execute_result"
    }
   ],
   "source": [
    "ind_des.isnull().value_counts() # Não há mais valores NA"
   ]
  },
  {
   "cell_type": "code",
   "execution_count": 56,
   "id": "6aff79da",
   "metadata": {},
   "outputs": [
    {
     "data": {
      "text/plain": [
       "0"
      ]
     },
     "execution_count": 56,
     "metadata": {},
     "output_type": "execute_result"
    }
   ],
   "source": [
    "ind_des.isnull().sum()"
   ]
  },
  {
   "cell_type": "code",
   "execution_count": 37,
   "id": "28433c5e",
   "metadata": {},
   "outputs": [
    {
     "data": {
      "text/plain": [
       "('0,258', '0,767')"
      ]
     },
     "execution_count": 37,
     "metadata": {},
     "output_type": "execute_result"
    }
   ],
   "source": [
    "ind_des.min(), ind_des.max() # Pegando o menor e maior desempenho"
   ]
  },
  {
   "cell_type": "markdown",
   "id": "12c9e2e1",
   "metadata": {},
   "source": [
    "### OBS: Eu estava tentando tirar a média e o devio padrão, porém estava dando erro pois estava em STR Tentei converter e continuava dando erro que não dava para converter para  o tipo float. Isso se deve pois tinha uma VÍRGULA no lugar de um PONTO."
   ]
  },
  {
   "cell_type": "code",
   "execution_count": 108,
   "id": "5f64bba7",
   "metadata": {},
   "outputs": [],
   "source": [
    "ind_des = ind_des.str.replace(',', '.')"
   ]
  },
  {
   "cell_type": "code",
   "execution_count": 110,
   "id": "42ae44ad",
   "metadata": {},
   "outputs": [
    {
     "data": {
      "text/plain": [
       "0       0.767\n",
       "1       0.759\n",
       "2       0.758\n",
       "3       0.756\n",
       "4       0.736\n",
       "        ...  \n",
       "3298    0.296\n",
       "3299    0.282\n",
       "3300    0.279\n",
       "3301    0.278\n",
       "3302    0.258\n",
       "Name: indice_governanca, Length: 3303, dtype: float64"
      ]
     },
     "execution_count": 110,
     "metadata": {},
     "output_type": "execute_result"
    }
   ],
   "source": [
    "ind_des = pd.to_numeric(ind_des)\n",
    "ind_des"
   ]
  },
  {
   "cell_type": "code",
   "execution_count": 112,
   "id": "c88be047",
   "metadata": {},
   "outputs": [],
   "source": [
    "# Problema resolvido"
   ]
  },
  {
   "cell_type": "code",
   "execution_count": 113,
   "id": "b89a6770",
   "metadata": {},
   "outputs": [
    {
     "data": {
      "text/plain": [
       "(0.5019585225552526, 0.08370404317359417)"
      ]
     },
     "execution_count": 113,
     "metadata": {},
     "output_type": "execute_result"
    }
   ],
   "source": [
    "ind_des.mean(), ind_des.std() # Média e desvio padrão"
   ]
  },
  {
   "cell_type": "code",
   "execution_count": 114,
   "id": "d891cd24",
   "metadata": {},
   "outputs": [
    {
     "data": {
      "text/plain": [
       "count    3303.000000\n",
       "mean        0.501959\n",
       "std         0.083704\n",
       "min         0.258000\n",
       "25%         0.438000\n",
       "50%         0.504000\n",
       "75%         0.566000\n",
       "max         0.767000\n",
       "Name: indice_governanca, dtype: float64"
      ]
     },
     "execution_count": 114,
     "metadata": {},
     "output_type": "execute_result"
    }
   ],
   "source": [
    "ind_des.describe()"
   ]
  },
  {
   "cell_type": "code",
   "execution_count": 132,
   "id": "1869299a",
   "metadata": {},
   "outputs": [
    {
     "data": {
      "text/plain": [
       "<AxesSubplot:>"
      ]
     },
     "execution_count": 132,
     "metadata": {},
     "output_type": "execute_result"
    },
    {
     "data": {
      "image/png": "[encoded data removed]",
      "text/plain": [
       "<Figure size 432x288 with 1 Axes>"
      ]
     },
     "metadata": {
      "needs_background": "light"
     },
     "output_type": "display_data"
    }
   ],
   "source": [
    "ind_des.hist()"
   ]
  },
  {
   "cell_type": "markdown",
   "id": "c817577f",
   "metadata": {},
   "source": [
    "# Primeiros Gráficos com o Seaborn"
   ]
  },
  {
   "cell_type": "raw",
   "id": "f6383ce5",
   "metadata": {},
   "source": [
    "## Tipos de plots com o uso do seaborn"
   ]
  },
  {
   "cell_type": "code",
   "execution_count": 133,
   "id": "437b55f0",
   "metadata": {},
   "outputs": [
    {
     "data": {
      "text/plain": [
       "<AxesSubplot:xlabel='indice_governanca', ylabel='Density'>"
      ]
     },
     "execution_count": 133,
     "metadata": {},
     "output_type": "execute_result"
    },
    {
     "data": {
      "image/png": "[encoded data removed]",
      "text/plain": [
       "<Figure size 432x288 with 1 Axes>"
      ]
     },
     "metadata": {
      "needs_background": "light"
     },
     "output_type": "display_data"
    }
   ],
   "source": [
    "sns.kdeplot(ind_des)"
   ]
  },
  {
   "cell_type": "code",
   "execution_count": 139,
   "id": "ec07f543",
   "metadata": {},
   "outputs": [
    {
     "name": "stderr",
     "output_type": "stream",
     "text": [
      "C:\\Users\\walli\\anaconda3\\lib\\site-packages\\seaborn\\distributions.py:2619: FutureWarning: `distplot` is a deprecated function and will be removed in a future version. Please adapt your code to use either `displot` (a figure-level function with similar flexibility) or `histplot` (an axes-level function for histograms).\n",
      "  warnings.warn(msg, FutureWarning)\n"
     ]
    },
    {
     "data": {
      "text/plain": [
       "<AxesSubplot:xlabel='indice_governanca', ylabel='Density'>"
      ]
     },
     "execution_count": 139,
     "metadata": {},
     "output_type": "execute_result"
    },
    {
     "data": {
      "image/png": "[encoded data removed]",
      "text/plain": [
       "<Figure size 432x288 with 1 Axes>"
      ]
     },
     "metadata": {
      "needs_background": "light"
     },
     "output_type": "display_data"
    }
   ],
   "source": [
    "sns.distplot(ind_des)"
   ]
  },
  {
   "cell_type": "code",
   "execution_count": null,
   "id": "4aab8072",
   "metadata": {},
   "outputs": [],
   "source": []
  }
 ],
 "metadata": {
  "kernelspec": {
   "display_name": "Python 3 (ipykernel)",
   "language": "python",
   "name": "python3"
  },
  "language_info": {
   "codemirror_mode": {
    "name": "ipython",
    "version": 3
   },
   "file_extension": ".py",
   "mimetype": "text/x-python",
   "name": "python",
   "nbconvert_exporter": "python",
   "pygments_lexer": "ipython3",
   "version": "3.9.7"
  }
 },
 "nbformat": 4,
 "nbformat_minor": 5
}
